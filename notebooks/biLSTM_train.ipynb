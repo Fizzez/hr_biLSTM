{
 "cells": [
  {
   "cell_type": "code",
   "execution_count": 2,
   "metadata": {
    "ExecuteTime": {
     "end_time": "2020-12-01T04:26:20.153974Z",
     "start_time": "2020-12-01T04:26:20.151150Z"
    }
   },
   "outputs": [],
   "source": [
    "from pathlib import Path\n",
    "import numpy as np\n",
    "\n",
    "DATA_PATH = Path('/Volumes/Samsung_SSD/CIME-PPG-dataset-2018')"
   ]
  },
  {
   "cell_type": "markdown",
   "metadata": {},
   "source": [
    "## Prepare pytorch dataset"
   ]
  },
  {
   "cell_type": "code",
   "execution_count": 3,
   "metadata": {
    "ExecuteTime": {
     "end_time": "2020-12-01T04:27:35.323820Z",
     "start_time": "2020-12-01T04:27:34.058874Z"
    }
   },
   "outputs": [],
   "source": [
    "train_input = np.load(DATA_PATH / 'train_input_processed.npy')\n",
    "train_output = np.load(DATA_PATH / 'train_output_processed.npy')\n",
    "test_input = np.load(DATA_PATH / 'test_input_processed.npy')\n",
    "test_output = np.load(DATA_PATH / 'test_output_processed.npy')"
   ]
  },
  {
   "cell_type": "code",
   "execution_count": 8,
   "metadata": {
    "ExecuteTime": {
     "end_time": "2020-12-01T04:29:49.403583Z",
     "start_time": "2020-12-01T04:29:49.400247Z"
    }
   },
   "outputs": [
    {
     "name": "stdout",
     "output_type": "stream",
     "text": [
      "train_input.shape=(5000, 3, 3000), train_output.shape=(5000, 1, 3000), test_input.shape=(1900, 3, 3000), test_output.shape=(1900, 1, 3000)\n"
     ]
    }
   ],
   "source": [
    "print(f'{train_input.shape=}, {train_output.shape=}, {test_input.shape=}, {test_output.shape=}')"
   ]
  },
  {
   "cell_type": "code",
   "execution_count": null,
   "metadata": {},
   "outputs": [],
   "source": []
  }
 ],
 "metadata": {
  "kernelspec": {
   "display_name": "Python 3",
   "language": "python",
   "name": "python3"
  },
  "language_info": {
   "codemirror_mode": {
    "name": "ipython",
    "version": 3
   },
   "file_extension": ".py",
   "mimetype": "text/x-python",
   "name": "python",
   "nbconvert_exporter": "python",
   "pygments_lexer": "ipython3",
   "version": "3.8.5"
  },
  "varInspector": {
   "cols": {
    "lenName": 16,
    "lenType": 16,
    "lenVar": 40
   },
   "kernels_config": {
    "python": {
     "delete_cmd_postfix": "",
     "delete_cmd_prefix": "del ",
     "library": "var_list.py",
     "varRefreshCmd": "print(var_dic_list())"
    },
    "r": {
     "delete_cmd_postfix": ") ",
     "delete_cmd_prefix": "rm(",
     "library": "var_list.r",
     "varRefreshCmd": "cat(var_dic_list()) "
    }
   },
   "types_to_exclude": [
    "module",
    "function",
    "builtin_function_or_method",
    "instance",
    "_Feature"
   ],
   "window_display": false
  }
 },
 "nbformat": 4,
 "nbformat_minor": 4
}
